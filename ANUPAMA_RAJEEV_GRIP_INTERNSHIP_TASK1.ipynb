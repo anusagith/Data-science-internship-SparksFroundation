{
 "cells": [
  {
   "cell_type": "markdown",
   "id": "cc658110",
   "metadata": {},
   "source": [
    "## GRIP Data Science Internship: TASK 1\n",
    "\n",
    "### Predict score obtained by a student based on the hours spent studying; using supervised ML"
   ]
  },
  {
   "cell_type": "code",
   "execution_count": 1,
   "id": "e39a110a",
   "metadata": {},
   "outputs": [],
   "source": [
    "#importing required libraries\n",
    "\n",
    "import numpy as np, pandas as pd\n",
    "import matplotlib.pyplot as plt\n",
    "import seaborn as sns\n",
    "\n",
    "sns.set_style(\"whitegrid\")\n",
    "\n",
    "#Handling warnings\n",
    "\n",
    "import warnings\n",
    "warnings.filterwarnings(\"ignore\")\n"
   ]
  },
  {
   "cell_type": "markdown",
   "id": "4ea7d535",
   "metadata": {},
   "source": [
    "### READING AND UNDERSTANDING DATA"
   ]
  },
  {
   "cell_type": "code",
   "execution_count": 2,
   "id": "df98b484",
   "metadata": {},
   "outputs": [
    {
     "data": {
      "text/html": [
       "<div>\n",
       "<style scoped>\n",
       "    .dataframe tbody tr th:only-of-type {\n",
       "        vertical-align: middle;\n",
       "    }\n",
       "\n",
       "    .dataframe tbody tr th {\n",
       "        vertical-align: top;\n",
       "    }\n",
       "\n",
       "    .dataframe thead th {\n",
       "        text-align: right;\n",
       "    }\n",
       "</style>\n",
       "<table border=\"1\" class=\"dataframe\">\n",
       "  <thead>\n",
       "    <tr style=\"text-align: right;\">\n",
       "      <th></th>\n",
       "      <th>Hours</th>\n",
       "      <th>Scores</th>\n",
       "    </tr>\n",
       "  </thead>\n",
       "  <tbody>\n",
       "    <tr>\n",
       "      <th>0</th>\n",
       "      <td>2.5</td>\n",
       "      <td>21</td>\n",
       "    </tr>\n",
       "    <tr>\n",
       "      <th>1</th>\n",
       "      <td>5.1</td>\n",
       "      <td>47</td>\n",
       "    </tr>\n",
       "    <tr>\n",
       "      <th>2</th>\n",
       "      <td>3.2</td>\n",
       "      <td>27</td>\n",
       "    </tr>\n",
       "    <tr>\n",
       "      <th>3</th>\n",
       "      <td>8.5</td>\n",
       "      <td>75</td>\n",
       "    </tr>\n",
       "    <tr>\n",
       "      <th>4</th>\n",
       "      <td>3.5</td>\n",
       "      <td>30</td>\n",
       "    </tr>\n",
       "    <tr>\n",
       "      <th>5</th>\n",
       "      <td>1.5</td>\n",
       "      <td>20</td>\n",
       "    </tr>\n",
       "    <tr>\n",
       "      <th>6</th>\n",
       "      <td>9.2</td>\n",
       "      <td>88</td>\n",
       "    </tr>\n",
       "    <tr>\n",
       "      <th>7</th>\n",
       "      <td>5.5</td>\n",
       "      <td>60</td>\n",
       "    </tr>\n",
       "    <tr>\n",
       "      <th>8</th>\n",
       "      <td>8.3</td>\n",
       "      <td>81</td>\n",
       "    </tr>\n",
       "    <tr>\n",
       "      <th>9</th>\n",
       "      <td>2.7</td>\n",
       "      <td>25</td>\n",
       "    </tr>\n",
       "  </tbody>\n",
       "</table>\n",
       "</div>"
      ],
      "text/plain": [
       "   Hours  Scores\n",
       "0    2.5      21\n",
       "1    5.1      47\n",
       "2    3.2      27\n",
       "3    8.5      75\n",
       "4    3.5      30\n",
       "5    1.5      20\n",
       "6    9.2      88\n",
       "7    5.5      60\n",
       "8    8.3      81\n",
       "9    2.7      25"
      ]
     },
     "execution_count": 2,
     "metadata": {},
     "output_type": "execute_result"
    }
   ],
   "source": [
    "#DATASET IS AVAILABLE AS URL. so saving it in a varibale called url\n",
    "\n",
    "url = \"https://raw.githubusercontent.com/AdiPersonalWorks/Random/master/student_scores%20-%20student_scores.csv\"\n",
    "\n",
    "#reading the csv file using pd.read_csv and saving the resulting dataframe to 'stud_df'\n",
    "\n",
    "stud_df = pd.read_csv(url)\n",
    "\n",
    "#displaying first ten rows\n",
    "\n",
    "stud_df.head(10)"
   ]
  },
  {
   "cell_type": "code",
   "execution_count": 3,
   "id": "5106b7d9",
   "metadata": {},
   "outputs": [
    {
     "name": "stdout",
     "output_type": "stream",
     "text": [
      "<class 'pandas.core.frame.DataFrame'>\n",
      "RangeIndex: 25 entries, 0 to 24\n",
      "Data columns (total 2 columns):\n",
      " #   Column  Non-Null Count  Dtype  \n",
      "---  ------  --------------  -----  \n",
      " 0   Hours   25 non-null     float64\n",
      " 1   Scores  25 non-null     int64  \n",
      "dtypes: float64(1), int64(1)\n",
      "memory usage: 528.0 bytes\n"
     ]
    }
   ],
   "source": [
    "#checking dataframe info\n",
    "\n",
    "stud_df.info()\n"
   ]
  },
  {
   "cell_type": "code",
   "execution_count": 4,
   "id": "0479bdd7",
   "metadata": {},
   "outputs": [
    {
     "data": {
      "text/plain": [
       "(25, 2)"
      ]
     },
     "execution_count": 4,
     "metadata": {},
     "output_type": "execute_result"
    }
   ],
   "source": [
    "#checking no of rows and columns\n",
    "\n",
    "stud_df.shape\n",
    "\n",
    "#25 rows and 2 columns"
   ]
  },
  {
   "cell_type": "code",
   "execution_count": 5,
   "id": "8cff04a8",
   "metadata": {},
   "outputs": [
    {
     "data": {
      "text/html": [
       "<div>\n",
       "<style scoped>\n",
       "    .dataframe tbody tr th:only-of-type {\n",
       "        vertical-align: middle;\n",
       "    }\n",
       "\n",
       "    .dataframe tbody tr th {\n",
       "        vertical-align: top;\n",
       "    }\n",
       "\n",
       "    .dataframe thead th {\n",
       "        text-align: right;\n",
       "    }\n",
       "</style>\n",
       "<table border=\"1\" class=\"dataframe\">\n",
       "  <thead>\n",
       "    <tr style=\"text-align: right;\">\n",
       "      <th></th>\n",
       "      <th>Hours</th>\n",
       "      <th>Scores</th>\n",
       "    </tr>\n",
       "  </thead>\n",
       "  <tbody>\n",
       "    <tr>\n",
       "      <th>count</th>\n",
       "      <td>25.000000</td>\n",
       "      <td>25.000000</td>\n",
       "    </tr>\n",
       "    <tr>\n",
       "      <th>mean</th>\n",
       "      <td>5.012000</td>\n",
       "      <td>51.480000</td>\n",
       "    </tr>\n",
       "    <tr>\n",
       "      <th>std</th>\n",
       "      <td>2.525094</td>\n",
       "      <td>25.286887</td>\n",
       "    </tr>\n",
       "    <tr>\n",
       "      <th>min</th>\n",
       "      <td>1.100000</td>\n",
       "      <td>17.000000</td>\n",
       "    </tr>\n",
       "    <tr>\n",
       "      <th>25%</th>\n",
       "      <td>2.700000</td>\n",
       "      <td>30.000000</td>\n",
       "    </tr>\n",
       "    <tr>\n",
       "      <th>50%</th>\n",
       "      <td>4.800000</td>\n",
       "      <td>47.000000</td>\n",
       "    </tr>\n",
       "    <tr>\n",
       "      <th>75%</th>\n",
       "      <td>7.400000</td>\n",
       "      <td>75.000000</td>\n",
       "    </tr>\n",
       "    <tr>\n",
       "      <th>max</th>\n",
       "      <td>9.200000</td>\n",
       "      <td>95.000000</td>\n",
       "    </tr>\n",
       "  </tbody>\n",
       "</table>\n",
       "</div>"
      ],
      "text/plain": [
       "           Hours     Scores\n",
       "count  25.000000  25.000000\n",
       "mean    5.012000  51.480000\n",
       "std     2.525094  25.286887\n",
       "min     1.100000  17.000000\n",
       "25%     2.700000  30.000000\n",
       "50%     4.800000  47.000000\n",
       "75%     7.400000  75.000000\n",
       "max     9.200000  95.000000"
      ]
     },
     "execution_count": 5,
     "metadata": {},
     "output_type": "execute_result"
    }
   ],
   "source": [
    "#checking for statistical desriptions\n",
    "\n",
    "stud_df.describe()"
   ]
  },
  {
   "cell_type": "code",
   "execution_count": 6,
   "id": "ef8a792f",
   "metadata": {},
   "outputs": [
    {
     "name": "stdout",
     "output_type": "stream",
     "text": [
      "No of Null values in each column: \n",
      "Hours     0\n",
      "Scores    0\n",
      "dtype: int64\n"
     ]
    }
   ],
   "source": [
    "#checking for null values in each column\n",
    "\n",
    "print(\"No of Null values in each column: \")\n",
    "print(stud_df.isnull().sum())\n",
    "\n",
    "#no null values found"
   ]
  },
  {
   "cell_type": "markdown",
   "id": "f549dd5e",
   "metadata": {},
   "source": [
    "### PERFORMING EDA "
   ]
  },
  {
   "cell_type": "code",
   "execution_count": 7,
   "id": "d5a8b9d9",
   "metadata": {},
   "outputs": [
    {
     "data": {
      "image/png": "[encoded data removed]",
      "text/plain": [
       "<Figure size 432x288 with 1 Axes>"
      ]
     },
     "metadata": {},
     "output_type": "display_data"
    }
   ],
   "source": [
    "#since both are continous variables, lets check the distribution of both\n",
    "\n",
    "sns.boxplot(stud_df['Hours'], color='teal')\n",
    "plt.title(\"Distribution of Hours\", weight = 'bold')\n",
    "plt.show()\n",
    "\n",
    "#no outliers found"
   ]
  },
  {
   "cell_type": "code",
   "execution_count": 8,
   "id": "f27b0826",
   "metadata": {},
   "outputs": [
    {
     "data": {
      "image/png": "[encoded data removed]",
      "text/plain": [
       "<Figure size 432x288 with 1 Axes>"
      ]
     },
     "metadata": {},
     "output_type": "display_data"
    }
   ],
   "source": [
    "sns.boxplot(stud_df['Scores'], color='teal')\n",
    "plt.title(\"Distribution of Scores\")\n",
    "plt.show()\n",
    "\n",
    "#no outliers found"
   ]
  },
  {
   "cell_type": "code",
   "execution_count": 9,
   "id": "0da49fe9",
   "metadata": {},
   "outputs": [
    {
     "data": {
      "image/png": "[encoded data removed]",
      "text/plain": [
       "<Figure size 432x288 with 1 Axes>"
      ]
     },
     "metadata": {},
     "output_type": "display_data"
    }
   ],
   "source": [
    "#bivariate analysis of Hours and Scores\n",
    "\n",
    "sns.scatterplot(x='Hours', y='Scores', data=stud_df)\n",
    "plt.title(\"Hours spent vs Scores obtained\", weight='bold')\n",
    "plt.show()"
   ]
  },
  {
   "cell_type": "markdown",
   "id": "b27637a7",
   "metadata": {},
   "source": [
    "- `from the above graph, it can be infered that both 'Hours' and 'Scores' are linearily related.`"
   ]
  },
  {
   "cell_type": "code",
   "execution_count": 10,
   "id": "07b7f4cd",
   "metadata": {},
   "outputs": [],
   "source": [
    "#Importing required libraries for splitting, model building using linear regression\n",
    "\n",
    "from sklearn.model_selection import train_test_split\n",
    "from sklearn.linear_model import LinearRegression"
   ]
  },
  {
   "cell_type": "markdown",
   "id": "d8c35701",
   "metadata": {},
   "source": [
    "### Now, equation for a linear regression would look like:\n",
    "\n",
    "`y = c + m1 * X1, where`\n",
    "- y is the target (prediction)\n",
    "- c i the constsant\n",
    "- m1 is the coeeficient for the feature X1 (in our case 'Hours')"
   ]
  },
  {
   "cell_type": "code",
   "execution_count": 11,
   "id": "09f5a974",
   "metadata": {},
   "outputs": [],
   "source": [
    "X = stud_df.drop('Scores', axis = 1) #Hours column\n",
    "y = stud_df['Scores']\n"
   ]
  },
  {
   "cell_type": "code",
   "execution_count": 12,
   "id": "8f1c3265",
   "metadata": {},
   "outputs": [],
   "source": [
    "#set seed values in order to generate same split within the dataset\n",
    "\n",
    "np.random.seed(0)\n",
    "\n",
    "X_train, X_test, y_train, y_test = train_test_split(X, y, train_size=0.7, test_size=0.3, random_state=0)"
   ]
  },
  {
   "cell_type": "code",
   "execution_count": 13,
   "id": "3f6580f3",
   "metadata": {},
   "outputs": [
    {
     "data": {
      "text/plain": [
       "LinearRegression()"
      ]
     },
     "execution_count": 13,
     "metadata": {},
     "output_type": "execute_result"
    }
   ],
   "source": [
    "#fitting a line using SKLearn\n",
    "\n",
    "lm = LinearRegression() #creating an LR object\n",
    "\n",
    "lm.fit(X_train, y_train)\n",
    "\n"
   ]
  },
  {
   "cell_type": "code",
   "execution_count": 14,
   "id": "cd83e101",
   "metadata": {},
   "outputs": [
    {
     "name": "stdout",
     "output_type": "stream",
     "text": [
      "coefficient:  [9.78856669]\n",
      "Intercept:  2.370815382341867\n"
     ]
    }
   ],
   "source": [
    "#let us look at the coeeficient and intercept for the model\n",
    "\n",
    "print(\"coefficient: \", lm.coef_)\n",
    "print(\"Intercept: \", lm.intercept_)"
   ]
  },
  {
   "cell_type": "markdown",
   "id": "8060d72d",
   "metadata": {},
   "source": [
    "### Predicting on test data"
   ]
  },
  {
   "cell_type": "code",
   "execution_count": 15,
   "id": "2101ac2f",
   "metadata": {},
   "outputs": [],
   "source": [
    "#predicting scores on test data based on the model\n",
    "\n",
    "y_pred = lm.predict(X_test)"
   ]
  },
  {
   "cell_type": "code",
   "execution_count": 16,
   "id": "8cbf58b0",
   "metadata": {},
   "outputs": [
    {
     "data": {
      "text/html": [
       "<div>\n",
       "<style scoped>\n",
       "    .dataframe tbody tr th:only-of-type {\n",
       "        vertical-align: middle;\n",
       "    }\n",
       "\n",
       "    .dataframe tbody tr th {\n",
       "        vertical-align: top;\n",
       "    }\n",
       "\n",
       "    .dataframe thead th {\n",
       "        text-align: right;\n",
       "    }\n",
       "</style>\n",
       "<table border=\"1\" class=\"dataframe\">\n",
       "  <thead>\n",
       "    <tr style=\"text-align: right;\">\n",
       "      <th></th>\n",
       "      <th>Actual Score</th>\n",
       "      <th>Predicted Score</th>\n",
       "    </tr>\n",
       "  </thead>\n",
       "  <tbody>\n",
       "    <tr>\n",
       "      <th>5</th>\n",
       "      <td>20</td>\n",
       "      <td>17.05</td>\n",
       "    </tr>\n",
       "    <tr>\n",
       "      <th>2</th>\n",
       "      <td>27</td>\n",
       "      <td>33.69</td>\n",
       "    </tr>\n",
       "    <tr>\n",
       "      <th>19</th>\n",
       "      <td>69</td>\n",
       "      <td>74.81</td>\n",
       "    </tr>\n",
       "    <tr>\n",
       "      <th>16</th>\n",
       "      <td>30</td>\n",
       "      <td>26.84</td>\n",
       "    </tr>\n",
       "    <tr>\n",
       "      <th>11</th>\n",
       "      <td>62</td>\n",
       "      <td>60.12</td>\n",
       "    </tr>\n",
       "    <tr>\n",
       "      <th>22</th>\n",
       "      <td>35</td>\n",
       "      <td>39.57</td>\n",
       "    </tr>\n",
       "    <tr>\n",
       "      <th>17</th>\n",
       "      <td>24</td>\n",
       "      <td>20.97</td>\n",
       "    </tr>\n",
       "    <tr>\n",
       "      <th>24</th>\n",
       "      <td>86</td>\n",
       "      <td>78.72</td>\n",
       "    </tr>\n",
       "  </tbody>\n",
       "</table>\n",
       "</div>"
      ],
      "text/plain": [
       "    Actual Score  Predicted Score\n",
       "5             20            17.05\n",
       "2             27            33.69\n",
       "19            69            74.81\n",
       "16            30            26.84\n",
       "11            62            60.12\n",
       "22            35            39.57\n",
       "17            24            20.97\n",
       "24            86            78.72"
      ]
     },
     "execution_count": 16,
     "metadata": {},
     "output_type": "execute_result"
    }
   ],
   "source": [
    "#let us compare the actual and predicted scores\n",
    "\n",
    "model_df = pd.DataFrame({\"Actual Score\": y_test, \"Predicted Score\": np.round(y_pred,2)})\n",
    "model_df"
   ]
  },
  {
   "cell_type": "code",
   "execution_count": 17,
   "id": "b357b84a",
   "metadata": {},
   "outputs": [
    {
     "data": {
      "image/png": "[encoded data removed]",
      "text/plain": [
       "<Figure size 432x288 with 1 Axes>"
      ]
     },
     "metadata": {},
     "output_type": "display_data"
    }
   ],
   "source": [
    "# fitting the line\n",
    "line = lm.coef_*X_train + lm.intercept_\n",
    "\n",
    "plt.scatter(X_train, y_train)\n",
    "plt.plot(X_train, line, 'r');\n",
    "plt.show()"
   ]
  },
  {
   "cell_type": "code",
   "execution_count": 18,
   "id": "618151a7",
   "metadata": {},
   "outputs": [
    {
     "data": {
      "text/plain": [
       "0.9568211104435257"
      ]
     },
     "execution_count": 18,
     "metadata": {},
     "output_type": "execute_result"
    }
   ],
   "source": [
    "## MODEL EVALUATION USINF R2 value\n",
    "\n",
    "#importing library to calculate r2\n",
    "\n",
    "from sklearn.metrics import r2_score\n",
    "\n",
    "r2_val = r2_score(y_test, y_pred) #r-squared value of test data\n",
    "\n",
    "r2_val\n",
    "\n",
    "#r2 calue is close to 1; which indicates that the relation between the model and dependent variable is strong!"
   ]
  },
  {
   "cell_type": "markdown",
   "id": "dfdba417",
   "metadata": {},
   "source": [
    "### Checking the model for another value"
   ]
  },
  {
   "cell_type": "code",
   "execution_count": 19,
   "id": "55ce903a",
   "metadata": {},
   "outputs": [
    {
     "name": "stdout",
     "output_type": "stream",
     "text": [
      "Hours:  [9.25]\n",
      "score:  92.91505723477056\n"
     ]
    }
   ],
   "source": [
    "#let us suppose the hours spent on studying is 9.25 hrs/day.\n",
    "\n",
    "hrs = [9.25]\n",
    "result = lm.predict([hrs])\n",
    "\n",
    "print(\"Hours: \", hrs)\n",
    "print(\"score: \", result[0])"
   ]
  },
  {
   "cell_type": "markdown",
   "id": "714b6583",
   "metadata": {},
   "source": [
    "- `according to the model, if a student studies for 9.25 hrs, he/she would attain a score of 92.92%.`"
   ]
  },
  {
   "cell_type": "code",
   "execution_count": null,
   "id": "6bd2645b",
   "metadata": {},
   "outputs": [],
   "source": []
  }
 ],
 "metadata": {
  "kernelspec": {
   "display_name": "Python 3",
   "language": "python",
   "name": "python3"
  },
  "language_info": {
   "codemirror_mode": {
    "name": "ipython",
    "version": 3
   },
   "file_extension": ".py",
   "mimetype": "text/x-python",
   "name": "python",
   "nbconvert_exporter": "python",
   "pygments_lexer": "ipython3",
   "version": "3.8.8"
  }
 },
 "nbformat": 4,
 "nbformat_minor": 5
}
